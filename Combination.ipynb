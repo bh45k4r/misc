{
 "metadata": {
  "name": "Combination"
 },
 "nbformat": 3,
 "nbformat_minor": 0,
 "worksheets": [
  {
   "cells": [
    {
     "cell_type": "markdown",
     "metadata": {},
     "source": [
      "### number of distinct combinations\n",
      "\n",
      "[an example on wolfram alpha](http://po.st/EutM3R)\n",
      "\n",
      "- - -"
     ]
    },
    {
     "cell_type": "code",
     "collapsed": false,
     "input": [
      "import math\n",
      "\n",
      "def get_num_uniq_combi(num):\n",
      "    total_num_uniq_combi = 0\n",
      "    for i in range(0, num + 1):\n",
      "        # C(n, r) = n! / ((n - r)! r!)\n",
      "        total_num_uniq_combi += math.factorial(num) / (math.factorial(num - i) * math.factorial(i))\n",
      "    return total_num_uniq_combi"
     ],
     "language": "python",
     "metadata": {},
     "outputs": [],
     "prompt_number": 59
    },
    {
     "cell_type": "code",
     "collapsed": false,
     "input": [
      "from itertools import combinations\n",
      "\n",
      "def gen_uniq_combi(item_list, len_item_list):\n",
      "    uniq_combi_list = []\n",
      "    \n",
      "    # 0..n where n = total number of items in the list\n",
      "    for len_combi in range(0, len_item_list + 1):\n",
      "            # https://docs.python.org/2/library/itertools.html?highlight=itertools#itertools.combinations\n",
      "            sub_seq = combinations(item_list, len_combi)\n",
      "            for combi in sub_seq:\n",
      "                uniq_combi_list.append(combi)\n",
      "    return uniq_combi_list\n",
      "\n",
      "\n",
      "\n",
      "def test_gen_uniq_combi():\n",
      "    test_items_list = ['a', 'b', 'c', 'd']\n",
      "    len_test_items_list = len(test_items_list)\n",
      "    print get_num_uniq_combi(len_test_items_list) == len(gen_uniq_combi(test_items_list, len_test_items_list))"
     ],
     "language": "python",
     "metadata": {},
     "outputs": [],
     "prompt_number": 60
    },
    {
     "cell_type": "code",
     "collapsed": false,
     "input": [
      "def calculate_combinations(item_list, target_sum):\n",
      "    tot_combi = 0\n",
      "    len_item_list = len(item_list)\n",
      "    sub_seq = gen_uniq_combi(item_list, len_item_list)\n",
      "    \n",
      "    for combi in sub_seq:\n",
      "        if sum(combi) == target_sum:\n",
      "            tot_combi += 1\n",
      "            \n",
      "    return tot_combi\n",
      "\n",
      "\n",
      "\n",
      "def test_calculate_combinations():\n",
      "    # list_of_items, target_sum, total_combi\n",
      "    tests_list = [[[-1, 1, 2], 2, 2],\n",
      "                 [[-1, 0, 1, 2], 2, 4],\n",
      "                 [[9, 5, 2], 8, 0],\n",
      "                 [[10, 20, 30, 40, 50, 60], 70, 4]]\n",
      "    \n",
      "\n",
      "for test in tests_list:\n",
      "        print test[2] == calculate_combinations(test[0], target_sum=test[1])"
     ],
     "language": "python",
     "metadata": {},
     "outputs": [],
     "prompt_number": 61
    },
    {
     "cell_type": "code",
     "collapsed": false,
     "input": [
      "test_gen_uniq_combi()\n",
      "test_calculate_combinations()\n",
      "\n",
      "total_combinations = calculate_combinations([5, 5, 15, 10], target_sum=15)\n",
      "print total_combinations\n",
      "\n",
      "total_combinations = calculate_combinations([1, 2, 3, 4], target_sum=6)\n",
      "print total_combinations"
     ],
     "language": "python",
     "metadata": {},
     "outputs": [
      {
       "output_type": "stream",
       "stream": "stdout",
       "text": [
        "True\n",
        "True\n",
        "True\n",
        "True\n",
        "True\n",
        "3\n",
        "2\n"
       ]
      }
     ],
     "prompt_number": 62
    }
   ],
   "metadata": {}
  }
 ]
}